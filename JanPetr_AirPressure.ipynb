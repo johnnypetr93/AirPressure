{
 "cells": [
  {
   "cell_type": "markdown",
   "id": "ab6e3c5b",
   "metadata": {},
   "source": [
    "<h1>Zadání</h1>\n",
    "\n",
    "A customer is manufacturing devices containing air pumps that provide pressure for a machine cycle. Ideally, the air pressure rises sharply and remains stable throughout the machine's cycle, where it drops sharply. However, it can happen that the air pressure drops due to pump failure, or the air pressure rises or drops slowly.\n",
    "\n",
    "The goal of the project is to detect a pump failure. <b>The typical air pump failure is a temporary pressure decrease in the first half of the cycle.</b>\n",
    "\n",
    "<h2>Data</h2>\n",
    "\n",
    "The data consists of the following columns (in this particular order):\n",
    "\n",
    "<ol>\n",
    "    <li>MachineId - Id of the machine</li>\n",
    "    <li>MeasurementId - Id of the measured cycle</li>\n",
    "    <li>Pressure - Air pressure (kPa)</li>\n",
    "</ol>\n",
    "The data does not contain timestamps, but for each machine and measured cycle combination, observations (i.e. rows) of the pressure values are ordered by time, and the time intervals between individual observations are always the same.\n",
    "\n",
    "<h2>Labels</h2>\n",
    "\n",
    "The labels consists of the following columns (in this particular order):\n",
    "\n",
    "<ol>\n",
    "    <li>MachineId - Id of the machine</li>\n",
    "    <li>MeasurementId - Id of the measured cycle</li>\n",
    "    <li>PumpFailed - True if pump failed</li>\n",
    "    <li>SlowStart - True if the pressure rised slowly</li>\n",
    "    <li>SlowEnd - True if the pressure dropped slowly</li>\n",
    "</ol>\n",
    "\n",
    "<h2>Task</h2>\n",
    "<ul>\n",
    "    <li>Develop a predictive model for the PumpFailed column and report its performance in appropriate metrics.</li>\n",
    "    <li>Explain your model.</li>\n",
    "</ul>"
   ]
  },
  {
   "cell_type": "code",
   "execution_count": 1,
   "id": "d441b681",
   "metadata": {},
   "outputs": [],
   "source": [
    "import pandas as pd\n",
    "import numpy as np\n",
    "import pyarrow.parquet as pq\n",
    "import matplotlib.pyplot as plt\n",
    "import seaborn as sns \n",
    "import keras\n",
    "\n",
    "from sklearn.utils import resample\n",
    "from scipy import interpolate\n",
    "\n",
    "from sklearn.model_selection import train_test_split\n",
    "from sklearn.metrics import roc_curve, auc, accuracy_score, classification_report, confusion_matrix, precision_score\n",
    "from sklearn.neural_network import MLPClassifier\n",
    "from sklearn.linear_model import LogisticRegression\n",
    "from sklearn.preprocessing import MinMaxScaler, StandardScaler\n",
    "\n",
    "from tensorflow.keras.models import Sequential\n",
    "from tensorflow.keras.layers import Conv1D, MaxPooling1D, Flatten, Dense, LSTM, Dropout\n",
    "from tensorflow.keras.optimizers import Adam\n",
    "\n",
    "from tensorflow.keras.preprocessing.sequence import pad_sequences"
   ]
  },
  {
   "cell_type": "markdown",
   "id": "e31b2d81",
   "metadata": {},
   "source": [
    "<h1>1. Data Reading</h1>"
   ]
  },
  {
   "cell_type": "code",
   "execution_count": 2,
   "id": "ecdf2be1",
   "metadata": {},
   "outputs": [],
   "source": [
    "data = pq.read_table('data.parquet')\n",
    "datadf = data.to_pandas()\n",
    "\n",
    "labels = pd.read_csv('labels.csv')"
   ]
  },
  {
   "cell_type": "markdown",
   "id": "5816bca9",
   "metadata": {},
   "source": [
    "<h1>2. Data Exploration</h1>"
   ]
  },
  {
   "cell_type": "markdown",
   "id": "35b77dcc",
   "metadata": {},
   "source": [
    "<h3>2.1 Labels</h3>"
   ]
  },
  {
   "cell_type": "code",
   "execution_count": 3,
   "id": "37f98e7b",
   "metadata": {},
   "outputs": [
    {
     "data": {
      "text/html": [
       "<div>\n",
       "<style scoped>\n",
       "    .dataframe tbody tr th:only-of-type {\n",
       "        vertical-align: middle;\n",
       "    }\n",
       "\n",
       "    .dataframe tbody tr th {\n",
       "        vertical-align: top;\n",
       "    }\n",
       "\n",
       "    .dataframe thead th {\n",
       "        text-align: right;\n",
       "    }\n",
       "</style>\n",
       "<table border=\"1\" class=\"dataframe\">\n",
       "  <thead>\n",
       "    <tr style=\"text-align: right;\">\n",
       "      <th></th>\n",
       "      <th>MachineId</th>\n",
       "      <th>MeasurementId</th>\n",
       "      <th>PumpFailed</th>\n",
       "      <th>SlowStart</th>\n",
       "      <th>SlowEnd</th>\n",
       "    </tr>\n",
       "  </thead>\n",
       "  <tbody>\n",
       "    <tr>\n",
       "      <th>0</th>\n",
       "      <td>0_0_0</td>\n",
       "      <td>0</td>\n",
       "      <td>False</td>\n",
       "      <td>False</td>\n",
       "      <td>False</td>\n",
       "    </tr>\n",
       "    <tr>\n",
       "      <th>1</th>\n",
       "      <td>0_0_1</td>\n",
       "      <td>-1</td>\n",
       "      <td>NaN</td>\n",
       "      <td>NaN</td>\n",
       "      <td>NaN</td>\n",
       "    </tr>\n",
       "    <tr>\n",
       "      <th>2</th>\n",
       "      <td>0_0_2</td>\n",
       "      <td>0</td>\n",
       "      <td>False</td>\n",
       "      <td>False</td>\n",
       "      <td>False</td>\n",
       "    </tr>\n",
       "    <tr>\n",
       "      <th>3</th>\n",
       "      <td>0_0_3</td>\n",
       "      <td>0</td>\n",
       "      <td>True</td>\n",
       "      <td>False</td>\n",
       "      <td>False</td>\n",
       "    </tr>\n",
       "    <tr>\n",
       "      <th>4</th>\n",
       "      <td>0_1_0</td>\n",
       "      <td>-1</td>\n",
       "      <td>NaN</td>\n",
       "      <td>NaN</td>\n",
       "      <td>NaN</td>\n",
       "    </tr>\n",
       "    <tr>\n",
       "      <th>...</th>\n",
       "      <td>...</td>\n",
       "      <td>...</td>\n",
       "      <td>...</td>\n",
       "      <td>...</td>\n",
       "      <td>...</td>\n",
       "    </tr>\n",
       "    <tr>\n",
       "      <th>27380</th>\n",
       "      <td>10_0_2</td>\n",
       "      <td>8833</td>\n",
       "      <td>False</td>\n",
       "      <td>False</td>\n",
       "      <td>False</td>\n",
       "    </tr>\n",
       "    <tr>\n",
       "      <th>27381</th>\n",
       "      <td>10_0_3</td>\n",
       "      <td>8833</td>\n",
       "      <td>False</td>\n",
       "      <td>False</td>\n",
       "      <td>False</td>\n",
       "    </tr>\n",
       "    <tr>\n",
       "      <th>27382</th>\n",
       "      <td>10_0_0</td>\n",
       "      <td>8834</td>\n",
       "      <td>False</td>\n",
       "      <td>False</td>\n",
       "      <td>False</td>\n",
       "    </tr>\n",
       "    <tr>\n",
       "      <th>27383</th>\n",
       "      <td>10_0_1</td>\n",
       "      <td>8834</td>\n",
       "      <td>False</td>\n",
       "      <td>False</td>\n",
       "      <td>True</td>\n",
       "    </tr>\n",
       "    <tr>\n",
       "      <th>27384</th>\n",
       "      <td>10_0_3</td>\n",
       "      <td>8834</td>\n",
       "      <td>False</td>\n",
       "      <td>False</td>\n",
       "      <td>False</td>\n",
       "    </tr>\n",
       "  </tbody>\n",
       "</table>\n",
       "<p>27385 rows × 5 columns</p>\n",
       "</div>"
      ],
      "text/plain": [
       "      MachineId  MeasurementId PumpFailed SlowStart SlowEnd\n",
       "0         0_0_0              0      False     False   False\n",
       "1         0_0_1             -1        NaN       NaN     NaN\n",
       "2         0_0_2              0      False     False   False\n",
       "3         0_0_3              0       True     False   False\n",
       "4         0_1_0             -1        NaN       NaN     NaN\n",
       "...         ...            ...        ...       ...     ...\n",
       "27380    10_0_2           8833      False     False   False\n",
       "27381    10_0_3           8833      False     False   False\n",
       "27382    10_0_0           8834      False     False   False\n",
       "27383    10_0_1           8834      False     False    True\n",
       "27384    10_0_3           8834      False     False   False\n",
       "\n",
       "[27385 rows x 5 columns]"
      ]
     },
     "execution_count": 3,
     "metadata": {},
     "output_type": "execute_result"
    }
   ],
   "source": [
    "labels"
   ]
  },
  {
   "cell_type": "code",
   "execution_count": 4,
   "id": "3d4b4282",
   "metadata": {},
   "outputs": [
    {
     "name": "stdout",
     "output_type": "stream",
     "text": [
      "Pump failure: 2942\n",
      "Pump success: 23958\n"
     ]
    }
   ],
   "source": [
    "print(f\"Pump failure: {len(labels[labels['PumpFailed'] == True])}\")\n",
    "print(f\"Pump success: {len(labels[labels['PumpFailed'] == False])}\")"
   ]
  },
  {
   "cell_type": "markdown",
   "id": "cf70ee47",
   "metadata": {},
   "source": [
    "<b>Závěr: Nevyrovnaný dataset ve prospěch Pump Non-failure.</b>"
   ]
  },
  {
   "cell_type": "markdown",
   "id": "a411101f",
   "metadata": {},
   "source": [
    "<h3>2.2 Data</h3>"
   ]
  },
  {
   "cell_type": "code",
   "execution_count": 5,
   "id": "9ab257af",
   "metadata": {},
   "outputs": [
    {
     "data": {
      "text/html": [
       "<div>\n",
       "<style scoped>\n",
       "    .dataframe tbody tr th:only-of-type {\n",
       "        vertical-align: middle;\n",
       "    }\n",
       "\n",
       "    .dataframe tbody tr th {\n",
       "        vertical-align: top;\n",
       "    }\n",
       "\n",
       "    .dataframe thead th {\n",
       "        text-align: right;\n",
       "    }\n",
       "</style>\n",
       "<table border=\"1\" class=\"dataframe\">\n",
       "  <thead>\n",
       "    <tr style=\"text-align: right;\">\n",
       "      <th></th>\n",
       "      <th>MachineId</th>\n",
       "      <th>MeasurementId</th>\n",
       "      <th>Pressure</th>\n",
       "    </tr>\n",
       "  </thead>\n",
       "  <tbody>\n",
       "    <tr>\n",
       "      <th>0</th>\n",
       "      <td>0_0_0</td>\n",
       "      <td>0</td>\n",
       "      <td>0.0</td>\n",
       "    </tr>\n",
       "    <tr>\n",
       "      <th>1</th>\n",
       "      <td>0_0_0</td>\n",
       "      <td>0</td>\n",
       "      <td>0.0</td>\n",
       "    </tr>\n",
       "    <tr>\n",
       "      <th>2</th>\n",
       "      <td>0_0_0</td>\n",
       "      <td>0</td>\n",
       "      <td>0.0</td>\n",
       "    </tr>\n",
       "    <tr>\n",
       "      <th>3</th>\n",
       "      <td>0_0_0</td>\n",
       "      <td>0</td>\n",
       "      <td>0.0</td>\n",
       "    </tr>\n",
       "    <tr>\n",
       "      <th>4</th>\n",
       "      <td>0_0_0</td>\n",
       "      <td>0</td>\n",
       "      <td>0.0</td>\n",
       "    </tr>\n",
       "    <tr>\n",
       "      <th>...</th>\n",
       "      <td>...</td>\n",
       "      <td>...</td>\n",
       "      <td>...</td>\n",
       "    </tr>\n",
       "    <tr>\n",
       "      <th>18466359</th>\n",
       "      <td>10_0_3</td>\n",
       "      <td>8834</td>\n",
       "      <td>0.0</td>\n",
       "    </tr>\n",
       "    <tr>\n",
       "      <th>18466360</th>\n",
       "      <td>10_0_3</td>\n",
       "      <td>8834</td>\n",
       "      <td>0.0</td>\n",
       "    </tr>\n",
       "    <tr>\n",
       "      <th>18466361</th>\n",
       "      <td>10_0_3</td>\n",
       "      <td>8834</td>\n",
       "      <td>0.0</td>\n",
       "    </tr>\n",
       "    <tr>\n",
       "      <th>18466362</th>\n",
       "      <td>10_0_3</td>\n",
       "      <td>8834</td>\n",
       "      <td>0.0</td>\n",
       "    </tr>\n",
       "    <tr>\n",
       "      <th>18466363</th>\n",
       "      <td>10_0_3</td>\n",
       "      <td>8834</td>\n",
       "      <td>0.0</td>\n",
       "    </tr>\n",
       "  </tbody>\n",
       "</table>\n",
       "<p>18466364 rows × 3 columns</p>\n",
       "</div>"
      ],
      "text/plain": [
       "         MachineId  MeasurementId  Pressure\n",
       "0            0_0_0              0       0.0\n",
       "1            0_0_0              0       0.0\n",
       "2            0_0_0              0       0.0\n",
       "3            0_0_0              0       0.0\n",
       "4            0_0_0              0       0.0\n",
       "...            ...            ...       ...\n",
       "18466359    10_0_3           8834       0.0\n",
       "18466360    10_0_3           8834       0.0\n",
       "18466361    10_0_3           8834       0.0\n",
       "18466362    10_0_3           8834       0.0\n",
       "18466363    10_0_3           8834       0.0\n",
       "\n",
       "[18466364 rows x 3 columns]"
      ]
     },
     "execution_count": 5,
     "metadata": {},
     "output_type": "execute_result"
    }
   ],
   "source": [
    "datadf"
   ]
  },
  {
   "cell_type": "code",
   "execution_count": 6,
   "id": "c75b21c7",
   "metadata": {},
   "outputs": [
    {
     "name": "stdout",
     "output_type": "stream",
     "text": [
      "['0_0_0' '0_0_1' '0_0_2' '0_0_3' '0_1_0' '0_1_1' '0_1_2' '0_1_3' '1_0_0'\n",
      " '1_0_1']\n",
      "556\n"
     ]
    }
   ],
   "source": [
    "#Počet Machines\n",
    "\n",
    "print(datadf['MachineId'].unique()[0:10])\n",
    "print(len(datadf['MachineId'].unique()))"
   ]
  },
  {
   "cell_type": "code",
   "execution_count": 7,
   "id": "a46f7e4a",
   "metadata": {},
   "outputs": [
    {
     "name": "stdout",
     "output_type": "stream",
     "text": [
      "[  0  -1 215 237 353 411 412 421 428 430]\n",
      "570\n"
     ]
    }
   ],
   "source": [
    "#Počet Measurement Cycle v jedné konkrétní Machine\n",
    "\n",
    "print(datadf[datadf['MachineId'] == '0_0_0']['MeasurementId'].unique()[0:10])\n",
    "print(len(datadf[datadf['MachineId'] == '0_0_0']['MeasurementId'].unique()))"
   ]
  },
  {
   "cell_type": "markdown",
   "id": "ff985c42",
   "metadata": {},
   "source": [
    "<b>Závěr (na základě několika různých Machines):</b> Každá Machine má různý počet měření. Nutné zohlednit v přípravě vstupů pro ML model."
   ]
  },
  {
   "cell_type": "markdown",
   "id": "bd81db48",
   "metadata": {},
   "source": [
    "<h3>2.2.1 Příklad SharpStart a SharpEnd</h3>"
   ]
  },
  {
   "cell_type": "code",
   "execution_count": 8,
   "id": "d63ea5f3",
   "metadata": {},
   "outputs": [
    {
     "name": "stdout",
     "output_type": "stream",
     "text": [
      "Number of measurements:  368\n"
     ]
    },
    {
     "data": {
      "text/plain": [
       "[<matplotlib.lines.Line2D at 0x16b69c350>]"
      ]
     },
     "execution_count": 8,
     "metadata": {},
     "output_type": "execute_result"
    },
    {
     "data": {
      "image/png": "[encoded data removed]",
      "text/plain": [
       "<Figure size 640x480 with 1 Axes>"
      ]
     },
     "metadata": {},
     "output_type": "display_data"
    }
   ],
   "source": [
    "example = labels[(labels['SlowStart']==False) & (labels['SlowEnd']==False)].iloc[0]\n",
    "\n",
    "pressure_measurements = datadf[(datadf['MachineId'] == example['MachineId']) & (datadf['MeasurementId'] == example['MeasurementId'])]['Pressure']\n",
    "x = range(0,len(pressure_measurements))\n",
    "print(\"Number of measurements: \",len(pressure_measurements))\n",
    "plt.plot(x, pressure_measurements)"
   ]
  },
  {
   "cell_type": "markdown",
   "id": "c4f437f0",
   "metadata": {},
   "source": [
    "<h3>2.2.2 Příklad SlowStart a SlowEnd</h3>"
   ]
  },
  {
   "cell_type": "code",
   "execution_count": 9,
   "id": "3663d109",
   "metadata": {},
   "outputs": [
    {
     "name": "stdout",
     "output_type": "stream",
     "text": [
      "Number of measurements:  504\n"
     ]
    },
    {
     "data": {
      "text/plain": [
       "[<matplotlib.lines.Line2D at 0x17f48ded0>]"
      ]
     },
     "execution_count": 9,
     "metadata": {},
     "output_type": "execute_result"
    },
    {
     "data": {
      "image/png": "[encoded data removed]",
      "text/plain": [
       "<Figure size 640x480 with 1 Axes>"
      ]
     },
     "metadata": {},
     "output_type": "display_data"
    }
   ],
   "source": [
    "example = labels[(labels['SlowStart']==True) & (labels['SlowEnd']==True)].iloc[0]\n",
    "\n",
    "pressure_measurements = datadf[(datadf['MachineId'] == example['MachineId']) & (datadf['MeasurementId'] == example['MeasurementId'])]['Pressure']\n",
    "x = range(0,len(pressure_measurements))\n",
    "print(\"Number of measurements: \",len(pressure_measurements))\n",
    "plt.plot(x, pressure_measurements)"
   ]
  },
  {
   "cell_type": "markdown",
   "id": "1b4fb525",
   "metadata": {},
   "source": [
    "<b>Závěr: SlowStart a SlowEnd labels jsou zavádějící (?).</b></br>\n",
    "Viz grafy - případy, kdy jsou obě hodnoty True i False vypadá průběh stejně. (otestováno na vícero příkladech)"
   ]
  },
  {
   "cell_type": "markdown",
   "id": "f4971281",
   "metadata": {},
   "source": [
    "<h3>2.2.3 Příklad Pump Failure</h3>"
   ]
  },
  {
   "cell_type": "code",
   "execution_count": 10,
   "id": "b441f568",
   "metadata": {},
   "outputs": [
    {
     "name": "stdout",
     "output_type": "stream",
     "text": [
      "Number of measurements:  704\n"
     ]
    },
    {
     "data": {
      "text/plain": [
       "[<matplotlib.lines.Line2D at 0x17f582bd0>]"
      ]
     },
     "execution_count": 10,
     "metadata": {},
     "output_type": "execute_result"
    },
    {
     "data": {
      "image/png": "[encoded data removed]",
      "text/plain": [
       "<Figure size 640x480 with 1 Axes>"
      ]
     },
     "metadata": {},
     "output_type": "display_data"
    }
   ],
   "source": [
    "example = labels[(labels['PumpFailed']==True)].iloc[255]\n",
    "\n",
    "pressure_measurements = datadf[(datadf['MachineId'] == example['MachineId']) & (datadf['MeasurementId'] == example['MeasurementId'])]['Pressure']\n",
    "x = range(0,len(pressure_measurements))\n",
    "print(\"Number of measurements: \",len(pressure_measurements))\n",
    "plt.plot(x, pressure_measurements)"
   ]
  },
  {
   "cell_type": "markdown",
   "id": "80a41051",
   "metadata": {},
   "source": [
    "<h3>2.2.4 Příklad Pump Non-failure</h3>"
   ]
  },
  {
   "cell_type": "code",
   "execution_count": 11,
   "id": "b92d2b34",
   "metadata": {},
   "outputs": [
    {
     "name": "stdout",
     "output_type": "stream",
     "text": [
      "Number of measurements:  366\n"
     ]
    },
    {
     "data": {
      "text/plain": [
       "[<matplotlib.lines.Line2D at 0x17f614d90>]"
      ]
     },
     "execution_count": 11,
     "metadata": {},
     "output_type": "execute_result"
    },
    {
     "data": {
      "image/png": "[encoded data removed]",
      "text/plain": [
       "<Figure size 640x480 with 1 Axes>"
      ]
     },
     "metadata": {},
     "output_type": "display_data"
    }
   ],
   "source": [
    "example = labels[(labels['PumpFailed']==False)].iloc[15]\n",
    "\n",
    "pressure_measurements = datadf[(datadf['MachineId'] == example['MachineId']) & (datadf['MeasurementId'] == example['MeasurementId'])]['Pressure']\n",
    "x = range(0,len(pressure_measurements))\n",
    "print(\"Number of measurements: \",len(pressure_measurements))\n",
    "plt.plot(x, pressure_measurements)"
   ]
  },
  {
   "cell_type": "markdown",
   "id": "05bf857e",
   "metadata": {},
   "source": [
    "<h3>2.2.5 Ukázka měření:</h3>\n",
    "<ul>\n",
    "    <li>Vlevo: celé měření</li>\n",
    "    <li>Uprostřed: měření bez počátečních a závěrečných nul, tedy čistě během běhu pumpy</li>\n",
    "    <li>Vpravo: pouze první polovina měření, tedy úsek, kde nastává Pump Failure (pokud nastane)</li>\n",
    "</ul>"
   ]
  },
  {
   "cell_type": "code",
   "execution_count": 12,
   "id": "d3d998fb",
   "metadata": {},
   "outputs": [
    {
     "data": {
      "text/plain": [
       "Text(0.5, 0, 'Measurements: 58')"
      ]
     },
     "execution_count": 12,
     "metadata": {},
     "output_type": "execute_result"
    },
    {
     "data": {
      "image/png": "[encoded data removed]",
      "text/plain": [
       "<Figure size 1000x400 with 3 Axes>"
      ]
     },
     "metadata": {},
     "output_type": "display_data"
    }
   ],
   "source": [
    "example = labels[(labels['PumpFailed']==False)].iloc[250]\n",
    "pressure_measurements = datadf[(datadf['MachineId'] == example['MachineId']) & (datadf['MeasurementId'] == example['MeasurementId'])]['Pressure']\n",
    "\n",
    "#Original\n",
    "originalY = pressure_measurements\n",
    "originalX = range(len(pressure_measurements))\n",
    "\n",
    "#No zeroes\n",
    "nozeroesY = pressure_measurements[pressure_measurements != 0]\n",
    "nozeroesX = range(len(nozeroesY))\n",
    "\n",
    "#No zeroes + first half only\n",
    "midpoint = int(len(nozeroesY)/2)\n",
    "firsthalfY = nozeroesY[0:midpoint]\n",
    "firsthalfX = range(len(firsthalfY))\n",
    "\n",
    "fig, axs = plt.subplots(1, 3, figsize=(10, 4))  # 1 row, 2 columns\n",
    "\n",
    "axs[0].plot(originalX, originalY, 'r')  # 'r' for red line\n",
    "axs[0].set_xlabel(f'Measurements: {len(pressure_measurements)}', )\n",
    "\n",
    "axs[1].plot(nozeroesX, nozeroesY, 'r')  # 'r' for red line\n",
    "axs[1].set_xlabel(f'Measurements: {len(nozeroesY)}', )\n",
    "\n",
    "axs[2].plot(firsthalfX, firsthalfY, 'r')  # 'r' for red line\n",
    "axs[2].set_xlabel(f'Measurements: {len(firsthalfY)}', )"
   ]
  },
  {
   "cell_type": "code",
   "execution_count": 13,
   "id": "2fe9a274",
   "metadata": {},
   "outputs": [
    {
     "data": {
      "text/plain": [
       "Text(0.5, 0, 'Measurements: 79')"
      ]
     },
     "execution_count": 13,
     "metadata": {},
     "output_type": "execute_result"
    },
    {
     "data": {
      "image/png": "[encoded data removed]",
      "text/plain": [
       "<Figure size 1000x400 with 3 Axes>"
      ]
     },
     "metadata": {},
     "output_type": "display_data"
    }
   ],
   "source": [
    "# Pro ověření později - konkrétní kombinace MachineId a MeasurementId\n",
    "\n",
    "pressure_measurements = datadf[(datadf['MachineId'] == '0_0_0') & (datadf['MeasurementId'] == 1125)]['Pressure']\n",
    "\n",
    "#Original\n",
    "originalY = pressure_measurements\n",
    "originalX = range(len(pressure_measurements))\n",
    "\n",
    "#No zeroes\n",
    "nozeroesY = pressure_measurements[pressure_measurements != 0]\n",
    "nozeroesX = range(len(nozeroesY))\n",
    "\n",
    "#No zeroes + first half only\n",
    "midpoint = int(len(nozeroesY)/2)\n",
    "firsthalfY = nozeroesY[0:midpoint]\n",
    "firsthalfX = range(len(firsthalfY))\n",
    "\n",
    "fig, axs = plt.subplots(1, 3, figsize=(10, 4))  # 1 row, 2 columns\n",
    "\n",
    "axs[0].plot(originalX, originalY, 'r')  # 'r' for red line\n",
    "axs[0].set_xlabel(f'Measurements: {len(pressure_measurements)}', )\n",
    "\n",
    "axs[1].plot(nozeroesX, nozeroesY, 'r')  # 'r' for red line\n",
    "axs[1].set_xlabel(f'Measurements: {len(nozeroesY)}', )\n",
    "\n",
    "axs[2].plot(firsthalfX, firsthalfY, 'r')  # 'r' for red line\n",
    "axs[2].set_xlabel(f'Measurements: {len(firsthalfY)}', )"
   ]
  },
  {
   "cell_type": "markdown",
   "id": "6dec39fe",
   "metadata": {},
   "source": [
    "Původně jsem chtěl prozkoumat měření více do hloubky skrze směrodatnou odchylku, hledání lokálního/globálního minima, jež signalizuje Pressure Drop a podobné metody. Kvůli časovému omezení jsem se rozhodl tímto směrem nepokračovat.\n",
    "\n",
    "mean = np.mean(firsthalfY)\n",
    "std_dev = np.std(firsthalfY)\n",
    "\n",
    "print(mean, std_dev)"
   ]
  },
  {
   "cell_type": "markdown",
   "id": "2067145b",
   "metadata": {},
   "source": [
    "<h1>3. Data Pre-processing</h1>"
   ]
  },
  {
   "cell_type": "markdown",
   "id": "c546c202",
   "metadata": {},
   "source": [
    "<h2>1. Labels</h2>\n",
    "\n",
    "Provedl jsem následující kroky:\n",
    "<ul>\n",
    "    <li>Sjednotil jsem ID -> MachineId + MeasurementId</li>\n",
    "    <li>Zredukoval jsem dataset pouze na Id a PumpFailed. Hodnoty SlowStart a SlowEnd jsem v Data Exploration vyhodnotil jako irelevantní.</li>\n",
    "    <li>Odstranil jsem záznamy s NaN hodnotami</li>\n",
    "    <li>Nahradil jsem labels numerickými hodnotami</li>\n",
    "    <li>Vyrovnal jsem počty záznamu na třídu z důvodu nevyrovnaného datasetu ve prospěch Non-failure záznamů</li>\n",
    "</ul>"
   ]
  },
  {
   "cell_type": "code",
   "execution_count": 14,
   "id": "8fda1f17",
   "metadata": {},
   "outputs": [
    {
     "name": "stdout",
     "output_type": "stream",
     "text": [
      "27385\n",
      "27385\n"
     ]
    }
   ],
   "source": [
    "labels['Id'] = labels['MachineId'] + '_' + labels['MeasurementId'].astype(str)\n",
    "print(len(labels['Id']))\n",
    "print(len(labels['Id'].unique()))"
   ]
  },
  {
   "cell_type": "code",
   "execution_count": 15,
   "id": "bf0a3091",
   "metadata": {},
   "outputs": [],
   "source": [
    "labels = labels[['Id', 'PumpFailed']]\n",
    "labels = labels.dropna()\n",
    "labels['PumpFailed'].replace({True: 1, False: 0}, inplace=True)"
   ]
  },
  {
   "cell_type": "code",
   "execution_count": 16,
   "id": "1480f3b8",
   "metadata": {},
   "outputs": [
    {
     "name": "stdout",
     "output_type": "stream",
     "text": [
      "2942\n",
      "23958\n"
     ]
    }
   ],
   "source": [
    "print(len(labels[labels['PumpFailed']==1]))\n",
    "print(len(labels[labels['PumpFailed']==0]))"
   ]
  },
  {
   "cell_type": "code",
   "execution_count": 17,
   "id": "2a305543",
   "metadata": {},
   "outputs": [
    {
     "data": {
      "text/html": [
       "<div>\n",
       "<style scoped>\n",
       "    .dataframe tbody tr th:only-of-type {\n",
       "        vertical-align: middle;\n",
       "    }\n",
       "\n",
       "    .dataframe tbody tr th {\n",
       "        vertical-align: top;\n",
       "    }\n",
       "\n",
       "    .dataframe thead th {\n",
       "        text-align: right;\n",
       "    }\n",
       "</style>\n",
       "<table border=\"1\" class=\"dataframe\">\n",
       "  <thead>\n",
       "    <tr style=\"text-align: right;\">\n",
       "      <th></th>\n",
       "      <th>Id</th>\n",
       "      <th>PumpFailed</th>\n",
       "    </tr>\n",
       "  </thead>\n",
       "  <tbody>\n",
       "    <tr>\n",
       "      <th>3</th>\n",
       "      <td>0_0_3_0</td>\n",
       "      <td>1</td>\n",
       "    </tr>\n",
       "    <tr>\n",
       "      <th>5</th>\n",
       "      <td>0_1_1_1</td>\n",
       "      <td>1</td>\n",
       "    </tr>\n",
       "    <tr>\n",
       "      <th>18</th>\n",
       "      <td>2_2_2_3</td>\n",
       "      <td>1</td>\n",
       "    </tr>\n",
       "    <tr>\n",
       "      <th>22</th>\n",
       "      <td>1_2_2_4</td>\n",
       "      <td>1</td>\n",
       "    </tr>\n",
       "    <tr>\n",
       "      <th>26</th>\n",
       "      <td>3_0_2_5</td>\n",
       "      <td>0</td>\n",
       "    </tr>\n",
       "    <tr>\n",
       "      <th>...</th>\n",
       "      <td>...</td>\n",
       "      <td>...</td>\n",
       "    </tr>\n",
       "    <tr>\n",
       "      <th>27352</th>\n",
       "      <td>0_2_1_8824</td>\n",
       "      <td>0</td>\n",
       "    </tr>\n",
       "    <tr>\n",
       "      <th>27356</th>\n",
       "      <td>10_0_0_8826</td>\n",
       "      <td>0</td>\n",
       "    </tr>\n",
       "    <tr>\n",
       "      <th>27364</th>\n",
       "      <td>10_2_0_8829</td>\n",
       "      <td>0</td>\n",
       "    </tr>\n",
       "    <tr>\n",
       "      <th>27367</th>\n",
       "      <td>10_2_3_8829</td>\n",
       "      <td>0</td>\n",
       "    </tr>\n",
       "    <tr>\n",
       "      <th>27378</th>\n",
       "      <td>10_0_0_8833</td>\n",
       "      <td>0</td>\n",
       "    </tr>\n",
       "  </tbody>\n",
       "</table>\n",
       "<p>5884 rows × 2 columns</p>\n",
       "</div>"
      ],
      "text/plain": [
       "                Id  PumpFailed\n",
       "3          0_0_3_0           1\n",
       "5          0_1_1_1           1\n",
       "18         2_2_2_3           1\n",
       "22         1_2_2_4           1\n",
       "26         3_0_2_5           0\n",
       "...            ...         ...\n",
       "27352   0_2_1_8824           0\n",
       "27356  10_0_0_8826           0\n",
       "27364  10_2_0_8829           0\n",
       "27367  10_2_3_8829           0\n",
       "27378  10_0_0_8833           0\n",
       "\n",
       "[5884 rows x 2 columns]"
      ]
     },
     "execution_count": 17,
     "metadata": {},
     "output_type": "execute_result"
    }
   ],
   "source": [
    "#Vyrovnání počtu záznamů k jednotlivým třídám v datasetu\n",
    "\n",
    "labels_majority = labels[labels['PumpFailed']== 0]\n",
    "labels_minority = labels[labels['PumpFailed']== 1]\n",
    "\n",
    "labels_majority_downsample = resample(labels_majority,\n",
    "                                     replace=False,\n",
    "                                     n_samples=len(labels_minority),\n",
    "                                     )\n",
    "\n",
    "labels_balanced = pd.concat([labels_majority_downsample, labels_minority])\n",
    "\n",
    "labels_balanced.sort_index()"
   ]
  },
  {
   "cell_type": "markdown",
   "id": "a8103f90",
   "metadata": {},
   "source": [
    "<h2>2. Data</h2>\n",
    "\n",
    "Provedl jsem následující kroky:\n",
    "<ul>\n",
    "    <li>Sjednotil jsem ID -> MachineId + MeasurementId</li>\n",
    "    <li>Zredukoval jsem dataset pouze na ID a Pressure</li>\n",
    "    <li>Zredukoval jsem dataset pouze na hodnoty dostupné v tabulce Labels</li>\n",
    "    <li>Zploštil jsem dataset - tzn. z více měření pro konkrétní Machine jsem udělal jediný datový vstup ve formě listu</li>\n",
    "    <li>Odstranil jsem nuly na začátku a konci listu v rámci měření</li>\n",
    "    <li>Každé měření jsem zredukoval pouze na jeho první polovinu, ve které se, dle zadání, běžně stává Pump Failure</li>\n",
    "    <li>Sjednotil jsem délky měření pro vstup do ML modelu. Zvolil jsem metodu interpolace namísto paddingu nebo oříznutí. Argumentace pro tento krok v dané sekci.</li>\n",
    "</ul>"
   ]
  },
  {
   "cell_type": "code",
   "execution_count": 18,
   "id": "821f35f1",
   "metadata": {},
   "outputs": [],
   "source": [
    "#Odstranění nul z měření\n",
    "def remove_value_from_list(the_list, value):\n",
    "    return [x for x in the_list if x != value]\n",
    "\n",
    "#Uříznutí druhé poloviny měření\n",
    "def truncate_list(the_list):\n",
    "    midpoint = int(len(the_list)/2)\n",
    "    return the_list[:midpoint]\n",
    "\n",
    "#Interpolace měření na požadovanou velikost\n",
    "def resample_list(input_list, target_length):\n",
    "    # Create an array of the original indices\n",
    "    original_indices = np.linspace(0, 1, len(input_list))\n",
    "    \n",
    "    # Create an array of the target indices\n",
    "    target_indices = np.linspace(0, 1, target_length)\n",
    "    \n",
    "    # Interpolate using 1D linear interpolation\n",
    "    interp_func = interpolate.interp1d(original_indices, input_list, kind='linear')\n",
    "    \n",
    "    # Use the interpolation function to resample the list\n",
    "    resampled_list = interp_func(target_indices)\n",
    "    \n",
    "    return resampled_list"
   ]
  },
  {
   "cell_type": "code",
   "execution_count": 19,
   "id": "e880593a",
   "metadata": {
    "scrolled": true
   },
   "outputs": [],
   "source": [
    "datadf['Id'] = datadf['MachineId'] + '_' + datadf['MeasurementId'].astype(str)\n",
    "datadf = datadf[['Id', 'Pressure']]\n",
    "mask = datadf['Id'].isin(labels_balanced['Id'])\n",
    "datadf_filtered = datadf[mask]\n",
    "datadf_filtered = datadf_filtered.sort_index()"
   ]
  },
  {
   "cell_type": "code",
   "execution_count": 20,
   "id": "0ec76190",
   "metadata": {},
   "outputs": [],
   "source": [
    "datadf_filtered_flat = datadf_filtered.groupby('Id')['Pressure'].agg(list).reset_index()\n",
    "datadf_filtered_flat = datadf_filtered_flat.sort_values(by='Id', ascending=True)"
   ]
  },
  {
   "cell_type": "code",
   "execution_count": 21,
   "id": "0779c63d",
   "metadata": {},
   "outputs": [],
   "source": [
    "#Odstranění nul (start a konec)\n",
    "\n",
    "datadf_filtered_flat['Pressure'] = datadf_filtered_flat['Pressure'].apply(lambda x: remove_value_from_list(x, 0))"
   ]
  },
  {
   "cell_type": "code",
   "execution_count": 22,
   "id": "2ce7f32e",
   "metadata": {},
   "outputs": [
    {
     "data": {
      "text/plain": [
       "[<matplotlib.lines.Line2D at 0x17fdd0e90>]"
      ]
     },
     "execution_count": 22,
     "metadata": {},
     "output_type": "execute_result"
    },
    {
     "data": {
      "image/png": "[encoded data removed]",
      "text/plain": [
       "<Figure size 640x480 with 1 Axes>"
      ]
     },
     "metadata": {},
     "output_type": "display_data"
    }
   ],
   "source": [
    "#Zjištění počtu měření na konkrétní Machine\n",
    "\n",
    "datadf_filtered_flat['PressureLen'] = datadf_filtered_flat['Pressure'].apply(len)\n",
    "\n",
    "#Odstranění machines, které mají příliš málo měření\n",
    "\n",
    "datadf_filtered_flat = datadf_filtered_flat[datadf_filtered_flat['PressureLen'] > 50] \n",
    "\n",
    "plt.plot(datadf_filtered_flat['PressureLen'])"
   ]
  },
  {
   "cell_type": "code",
   "execution_count": 23,
   "id": "1a9e7c52",
   "metadata": {},
   "outputs": [],
   "source": [
    "#Odstranění druhé poloviny měření\n",
    "\n",
    "datadf_filtered_flat['Pressure'] = datadf_filtered_flat['Pressure'].apply(truncate_list)"
   ]
  },
  {
   "cell_type": "code",
   "execution_count": 24,
   "id": "6cdf3079",
   "metadata": {
    "scrolled": true
   },
   "outputs": [
    {
     "data": {
      "text/html": [
       "<div>\n",
       "<style scoped>\n",
       "    .dataframe tbody tr th:only-of-type {\n",
       "        vertical-align: middle;\n",
       "    }\n",
       "\n",
       "    .dataframe tbody tr th {\n",
       "        vertical-align: top;\n",
       "    }\n",
       "\n",
       "    .dataframe thead th {\n",
       "        text-align: right;\n",
       "    }\n",
       "</style>\n",
       "<table border=\"1\" class=\"dataframe\">\n",
       "  <thead>\n",
       "    <tr style=\"text-align: right;\">\n",
       "      <th></th>\n",
       "      <th>Id</th>\n",
       "      <th>Pressure</th>\n",
       "      <th>PressureLen</th>\n",
       "    </tr>\n",
       "  </thead>\n",
       "  <tbody>\n",
       "    <tr>\n",
       "      <th>0</th>\n",
       "      <td>0_0_0_1125</td>\n",
       "      <td>[0.7249310027598896, 1.3937442502299908, 1.372...</td>\n",
       "      <td>158</td>\n",
       "    </tr>\n",
       "    <tr>\n",
       "      <th>1</th>\n",
       "      <td>0_0_0_1142</td>\n",
       "      <td>[0.1800411522633745, 1.0432098765432098, 1.484...</td>\n",
       "      <td>114</td>\n",
       "    </tr>\n",
       "    <tr>\n",
       "      <th>2</th>\n",
       "      <td>0_0_0_1407</td>\n",
       "      <td>[0.9823702252693438, 1.216454456415279, 0.9823...</td>\n",
       "      <td>130</td>\n",
       "    </tr>\n",
       "    <tr>\n",
       "      <th>3</th>\n",
       "      <td>0_0_0_1505</td>\n",
       "      <td>[0.12919633774160733, 0.6093591047812817, 0.85...</td>\n",
       "      <td>154</td>\n",
       "    </tr>\n",
       "    <tr>\n",
       "      <th>4</th>\n",
       "      <td>0_0_0_1592</td>\n",
       "      <td>[0.010482180293501049, 0.039832285115303984, 0...</td>\n",
       "      <td>139</td>\n",
       "    </tr>\n",
       "    <tr>\n",
       "      <th>...</th>\n",
       "      <td>...</td>\n",
       "      <td>...</td>\n",
       "      <td>...</td>\n",
       "    </tr>\n",
       "    <tr>\n",
       "      <th>5879</th>\n",
       "      <td>9_5_3_4223</td>\n",
       "      <td>[0.060860440713536204, 0.24449108079748164, 0....</td>\n",
       "      <td>170</td>\n",
       "    </tr>\n",
       "    <tr>\n",
       "      <th>5880</th>\n",
       "      <td>9_5_3_4229</td>\n",
       "      <td>[0.08363970588235294, 0.2913602941176471, 0.41...</td>\n",
       "      <td>334</td>\n",
       "    </tr>\n",
       "    <tr>\n",
       "      <th>5881</th>\n",
       "      <td>9_5_3_4232</td>\n",
       "      <td>[0.07516650808753568, 0.368220742150333, 0.368...</td>\n",
       "      <td>163</td>\n",
       "    </tr>\n",
       "    <tr>\n",
       "      <th>5882</th>\n",
       "      <td>9_5_3_4238</td>\n",
       "      <td>[0.42446808510638295, 0.6829787234042554, 0.72...</td>\n",
       "      <td>490</td>\n",
       "    </tr>\n",
       "    <tr>\n",
       "      <th>5883</th>\n",
       "      <td>9_5_3_4253</td>\n",
       "      <td>[0.05916030534351145, 0.6164122137404581, 0.71...</td>\n",
       "      <td>213</td>\n",
       "    </tr>\n",
       "  </tbody>\n",
       "</table>\n",
       "<p>5865 rows × 3 columns</p>\n",
       "</div>"
      ],
      "text/plain": [
       "              Id                                           Pressure  \\\n",
       "0     0_0_0_1125  [0.7249310027598896, 1.3937442502299908, 1.372...   \n",
       "1     0_0_0_1142  [0.1800411522633745, 1.0432098765432098, 1.484...   \n",
       "2     0_0_0_1407  [0.9823702252693438, 1.216454456415279, 0.9823...   \n",
       "3     0_0_0_1505  [0.12919633774160733, 0.6093591047812817, 0.85...   \n",
       "4     0_0_0_1592  [0.010482180293501049, 0.039832285115303984, 0...   \n",
       "...          ...                                                ...   \n",
       "5879  9_5_3_4223  [0.060860440713536204, 0.24449108079748164, 0....   \n",
       "5880  9_5_3_4229  [0.08363970588235294, 0.2913602941176471, 0.41...   \n",
       "5881  9_5_3_4232  [0.07516650808753568, 0.368220742150333, 0.368...   \n",
       "5882  9_5_3_4238  [0.42446808510638295, 0.6829787234042554, 0.72...   \n",
       "5883  9_5_3_4253  [0.05916030534351145, 0.6164122137404581, 0.71...   \n",
       "\n",
       "      PressureLen  \n",
       "0             158  \n",
       "1             114  \n",
       "2             130  \n",
       "3             154  \n",
       "4             139  \n",
       "...           ...  \n",
       "5879          170  \n",
       "5880          334  \n",
       "5881          163  \n",
       "5882          490  \n",
       "5883          213  \n",
       "\n",
       "[5865 rows x 3 columns]"
      ]
     },
     "execution_count": 24,
     "metadata": {},
     "output_type": "execute_result"
    }
   ],
   "source": [
    "datadf_filtered_flat"
   ]
  },
  {
   "cell_type": "code",
   "execution_count": 25,
   "id": "c77634d2",
   "metadata": {},
   "outputs": [
    {
     "data": {
      "text/plain": [
       "5865"
      ]
     },
     "execution_count": 25,
     "metadata": {},
     "output_type": "execute_result"
    }
   ],
   "source": [
    "len(datadf_filtered_flat)"
   ]
  },
  {
   "cell_type": "markdown",
   "id": "9812c330",
   "metadata": {},
   "source": [
    "<b>Příprava na Machine Learning: nutné mít vstupy (měření) ve stejné velikosti.</b>\n",
    "\n",
    "V úvahu přichází 2 hlavní metody, jak tohoto dosáhnout - padding a truncating.\n",
    "- Padding -> přidání nul na začátek či konec měření by mohlo negativně ovlivnit výkon modelu.\n",
    "- Truncating -> oříznutí měření na konkrétní délku (minimální délka měření v rámci datasetu) by mohlo mít za následek, že ořízneme část měření, ve které došlo k Pressure dropu (příliš brzy).\n",
    "\n",
    "Proto jsem se rozhodl pro jinou metodu, tedy interpolaci. Skrze interpolaci natáhneme (v případě menšího, než požadovaného) nebo \"zcvrkneme\" (v případě většího) celé měření."
   ]
  },
  {
   "cell_type": "code",
   "execution_count": 26,
   "id": "a66e11c9",
   "metadata": {},
   "outputs": [
    {
     "data": {
      "text/html": [
       "<div>\n",
       "<style scoped>\n",
       "    .dataframe tbody tr th:only-of-type {\n",
       "        vertical-align: middle;\n",
       "    }\n",
       "\n",
       "    .dataframe tbody tr th {\n",
       "        vertical-align: top;\n",
       "    }\n",
       "\n",
       "    .dataframe thead th {\n",
       "        text-align: right;\n",
       "    }\n",
       "</style>\n",
       "<table border=\"1\" class=\"dataframe\">\n",
       "  <thead>\n",
       "    <tr style=\"text-align: right;\">\n",
       "      <th></th>\n",
       "      <th>Id</th>\n",
       "      <th>Pressure</th>\n",
       "      <th>PressureLen</th>\n",
       "      <th>PressureSame</th>\n",
       "      <th>PressureSameLen</th>\n",
       "    </tr>\n",
       "  </thead>\n",
       "  <tbody>\n",
       "    <tr>\n",
       "      <th>0</th>\n",
       "      <td>0_0_0_1125</td>\n",
       "      <td>[0.7249310027598896, 1.3937442502299908, 1.372...</td>\n",
       "      <td>158</td>\n",
       "      <td>[0.7249310027598896, 0.987078908803447, 1.2492...</td>\n",
       "      <td>200</td>\n",
       "    </tr>\n",
       "    <tr>\n",
       "      <th>1</th>\n",
       "      <td>0_0_0_1142</td>\n",
       "      <td>[0.1800411522633745, 1.0432098765432098, 1.484...</td>\n",
       "      <td>114</td>\n",
       "      <td>[0.1800411522633745, 0.4229429038195091, 0.665...</td>\n",
       "      <td>200</td>\n",
       "    </tr>\n",
       "    <tr>\n",
       "      <th>2</th>\n",
       "      <td>0_0_0_1407</td>\n",
       "      <td>[0.9823702252693438, 1.216454456415279, 0.9823...</td>\n",
       "      <td>130</td>\n",
       "      <td>[0.9823702252693438, 1.0576535960901472, 1.132...</td>\n",
       "      <td>200</td>\n",
       "    </tr>\n",
       "    <tr>\n",
       "      <th>3</th>\n",
       "      <td>0_0_0_1505</td>\n",
       "      <td>[0.12919633774160733, 0.6093591047812817, 0.85...</td>\n",
       "      <td>154</td>\n",
       "      <td>[0.12919633774160733, 0.31257508294268904, 0.4...</td>\n",
       "      <td>200</td>\n",
       "    </tr>\n",
       "    <tr>\n",
       "      <th>4</th>\n",
       "      <td>0_0_0_1592</td>\n",
       "      <td>[0.010482180293501049, 0.039832285115303984, 0...</td>\n",
       "      <td>139</td>\n",
       "      <td>[0.010482180293501049, 0.02051136184064979, 0....</td>\n",
       "      <td>200</td>\n",
       "    </tr>\n",
       "    <tr>\n",
       "      <th>...</th>\n",
       "      <td>...</td>\n",
       "      <td>...</td>\n",
       "      <td>...</td>\n",
       "      <td>...</td>\n",
       "      <td>...</td>\n",
       "    </tr>\n",
       "    <tr>\n",
       "      <th>5879</th>\n",
       "      <td>9_5_3_4223</td>\n",
       "      <td>[0.060860440713536204, 0.24449108079748164, 0....</td>\n",
       "      <td>170</td>\n",
       "      <td>[0.060860440713536204, 0.13837287170374432, 0....</td>\n",
       "      <td>200</td>\n",
       "    </tr>\n",
       "    <tr>\n",
       "      <th>5880</th>\n",
       "      <td>9_5_3_4229</td>\n",
       "      <td>[0.08363970588235294, 0.2913602941176471, 0.41...</td>\n",
       "      <td>334</td>\n",
       "      <td>[0.08363970588235294, 0.256914166420337, 0.374...</td>\n",
       "      <td>200</td>\n",
       "    </tr>\n",
       "    <tr>\n",
       "      <th>5881</th>\n",
       "      <td>9_5_3_4232</td>\n",
       "      <td>[0.07516650808753568, 0.368220742150333, 0.368...</td>\n",
       "      <td>163</td>\n",
       "      <td>[0.07516650808753568, 0.19297725544946426, 0.3...</td>\n",
       "      <td>200</td>\n",
       "    </tr>\n",
       "    <tr>\n",
       "      <th>5882</th>\n",
       "      <td>9_5_3_4238</td>\n",
       "      <td>[0.42446808510638295, 0.6829787234042554, 0.72...</td>\n",
       "      <td>490</td>\n",
       "      <td>[0.42446808510638295, 0.6928418689190634, 0.73...</td>\n",
       "      <td>200</td>\n",
       "    </tr>\n",
       "    <tr>\n",
       "      <th>5883</th>\n",
       "      <td>9_5_3_4253</td>\n",
       "      <td>[0.05916030534351145, 0.6164122137404581, 0.71...</td>\n",
       "      <td>213</td>\n",
       "      <td>[0.05916030534351145, 0.3531876941961717, 0.62...</td>\n",
       "      <td>200</td>\n",
       "    </tr>\n",
       "  </tbody>\n",
       "</table>\n",
       "<p>5865 rows × 5 columns</p>\n",
       "</div>"
      ],
      "text/plain": [
       "              Id                                           Pressure  \\\n",
       "0     0_0_0_1125  [0.7249310027598896, 1.3937442502299908, 1.372...   \n",
       "1     0_0_0_1142  [0.1800411522633745, 1.0432098765432098, 1.484...   \n",
       "2     0_0_0_1407  [0.9823702252693438, 1.216454456415279, 0.9823...   \n",
       "3     0_0_0_1505  [0.12919633774160733, 0.6093591047812817, 0.85...   \n",
       "4     0_0_0_1592  [0.010482180293501049, 0.039832285115303984, 0...   \n",
       "...          ...                                                ...   \n",
       "5879  9_5_3_4223  [0.060860440713536204, 0.24449108079748164, 0....   \n",
       "5880  9_5_3_4229  [0.08363970588235294, 0.2913602941176471, 0.41...   \n",
       "5881  9_5_3_4232  [0.07516650808753568, 0.368220742150333, 0.368...   \n",
       "5882  9_5_3_4238  [0.42446808510638295, 0.6829787234042554, 0.72...   \n",
       "5883  9_5_3_4253  [0.05916030534351145, 0.6164122137404581, 0.71...   \n",
       "\n",
       "      PressureLen                                       PressureSame  \\\n",
       "0             158  [0.7249310027598896, 0.987078908803447, 1.2492...   \n",
       "1             114  [0.1800411522633745, 0.4229429038195091, 0.665...   \n",
       "2             130  [0.9823702252693438, 1.0576535960901472, 1.132...   \n",
       "3             154  [0.12919633774160733, 0.31257508294268904, 0.4...   \n",
       "4             139  [0.010482180293501049, 0.02051136184064979, 0....   \n",
       "...           ...                                                ...   \n",
       "5879          170  [0.060860440713536204, 0.13837287170374432, 0....   \n",
       "5880          334  [0.08363970588235294, 0.256914166420337, 0.374...   \n",
       "5881          163  [0.07516650808753568, 0.19297725544946426, 0.3...   \n",
       "5882          490  [0.42446808510638295, 0.6928418689190634, 0.73...   \n",
       "5883          213  [0.05916030534351145, 0.3531876941961717, 0.62...   \n",
       "\n",
       "      PressureSameLen  \n",
       "0                 200  \n",
       "1                 200  \n",
       "2                 200  \n",
       "3                 200  \n",
       "4                 200  \n",
       "...               ...  \n",
       "5879              200  \n",
       "5880              200  \n",
       "5881              200  \n",
       "5882              200  \n",
       "5883              200  \n",
       "\n",
       "[5865 rows x 5 columns]"
      ]
     },
     "execution_count": 26,
     "metadata": {},
     "output_type": "execute_result"
    }
   ],
   "source": [
    "#Interpolace\n",
    "\n",
    "datadf_filtered_flat['PressureSame'] = datadf_filtered_flat['Pressure'].apply(lambda x: resample_list(x, 200))\n",
    "\n",
    "#Ověření, že interpolace proběhla správně\n",
    "\n",
    "datadf_filtered_flat['PressureSameLen'] = datadf_filtered_flat['PressureSame'].apply(len)\n",
    "\n",
    "datadf_filtered_flat"
   ]
  },
  {
   "cell_type": "raw",
   "id": "ad72493e",
   "metadata": {},
   "source": [
    "#Padding - zvolena Interpolace namísto paddingu\n",
    "\n",
    "sequences = datadf_filtered_flat['Pressure'].tolist()\n",
    "\n",
    "padded_sequences = pad_sequences(sequences, padding='post', maxlen=500, dtype='float32')\n",
    "\n",
    "datadf_filtered_flat['PressureSame'] = list(map(list, padded_sequences))\n",
    "\n",
    "datadf_filtered_flat['PressureSameLen'] = datadf_filtered_flat['PressureSame'].apply(len)"
   ]
  },
  {
   "cell_type": "code",
   "execution_count": 27,
   "id": "7823b06f",
   "metadata": {},
   "outputs": [],
   "source": [
    "datadf_filtered_flat = datadf_filtered_flat[['Id', 'PressureSame']]"
   ]
  },
  {
   "cell_type": "code",
   "execution_count": 44,
   "id": "9f8e9c6d",
   "metadata": {},
   "outputs": [],
   "source": [
    "#Sjednocení dat a tříd\n",
    "\n",
    "joined = pd.merge(datadf_filtered_flat, labels_balanced, on='Id', how='inner')"
   ]
  },
  {
   "cell_type": "code",
   "execution_count": 29,
   "id": "58f26d71",
   "metadata": {},
   "outputs": [
    {
     "data": {
      "text/html": [
       "<div>\n",
       "<style scoped>\n",
       "    .dataframe tbody tr th:only-of-type {\n",
       "        vertical-align: middle;\n",
       "    }\n",
       "\n",
       "    .dataframe tbody tr th {\n",
       "        vertical-align: top;\n",
       "    }\n",
       "\n",
       "    .dataframe thead th {\n",
       "        text-align: right;\n",
       "    }\n",
       "</style>\n",
       "<table border=\"1\" class=\"dataframe\">\n",
       "  <thead>\n",
       "    <tr style=\"text-align: right;\">\n",
       "      <th></th>\n",
       "      <th>Id</th>\n",
       "      <th>PressureSame</th>\n",
       "      <th>PumpFailed</th>\n",
       "    </tr>\n",
       "  </thead>\n",
       "  <tbody>\n",
       "    <tr>\n",
       "      <th>0</th>\n",
       "      <td>0_0_0_1125</td>\n",
       "      <td>[0.7249310027598896, 0.987078908803447, 1.2492...</td>\n",
       "      <td>1</td>\n",
       "    </tr>\n",
       "    <tr>\n",
       "      <th>1</th>\n",
       "      <td>0_0_0_1142</td>\n",
       "      <td>[0.1800411522633745, 0.4229429038195091, 0.665...</td>\n",
       "      <td>1</td>\n",
       "    </tr>\n",
       "    <tr>\n",
       "      <th>2</th>\n",
       "      <td>0_0_0_1407</td>\n",
       "      <td>[0.9823702252693438, 1.0576535960901472, 1.132...</td>\n",
       "      <td>0</td>\n",
       "    </tr>\n",
       "    <tr>\n",
       "      <th>3</th>\n",
       "      <td>0_0_0_1505</td>\n",
       "      <td>[0.12919633774160733, 0.31257508294268904, 0.4...</td>\n",
       "      <td>0</td>\n",
       "    </tr>\n",
       "    <tr>\n",
       "      <th>4</th>\n",
       "      <td>0_0_0_1592</td>\n",
       "      <td>[0.010482180293501049, 0.02051136184064979, 0....</td>\n",
       "      <td>1</td>\n",
       "    </tr>\n",
       "    <tr>\n",
       "      <th>...</th>\n",
       "      <td>...</td>\n",
       "      <td>...</td>\n",
       "      <td>...</td>\n",
       "    </tr>\n",
       "    <tr>\n",
       "      <th>5860</th>\n",
       "      <td>9_5_3_4223</td>\n",
       "      <td>[0.060860440713536204, 0.13837287170374432, 0....</td>\n",
       "      <td>0</td>\n",
       "    </tr>\n",
       "    <tr>\n",
       "      <th>5861</th>\n",
       "      <td>9_5_3_4229</td>\n",
       "      <td>[0.08363970588235294, 0.256914166420337, 0.374...</td>\n",
       "      <td>0</td>\n",
       "    </tr>\n",
       "    <tr>\n",
       "      <th>5862</th>\n",
       "      <td>9_5_3_4232</td>\n",
       "      <td>[0.07516650808753568, 0.19297725544946426, 0.3...</td>\n",
       "      <td>0</td>\n",
       "    </tr>\n",
       "    <tr>\n",
       "      <th>5863</th>\n",
       "      <td>9_5_3_4238</td>\n",
       "      <td>[0.42446808510638295, 0.6928418689190634, 0.73...</td>\n",
       "      <td>0</td>\n",
       "    </tr>\n",
       "    <tr>\n",
       "      <th>5864</th>\n",
       "      <td>9_5_3_4253</td>\n",
       "      <td>[0.05916030534351145, 0.3531876941961717, 0.62...</td>\n",
       "      <td>0</td>\n",
       "    </tr>\n",
       "  </tbody>\n",
       "</table>\n",
       "<p>5865 rows × 3 columns</p>\n",
       "</div>"
      ],
      "text/plain": [
       "              Id                                       PressureSame  \\\n",
       "0     0_0_0_1125  [0.7249310027598896, 0.987078908803447, 1.2492...   \n",
       "1     0_0_0_1142  [0.1800411522633745, 0.4229429038195091, 0.665...   \n",
       "2     0_0_0_1407  [0.9823702252693438, 1.0576535960901472, 1.132...   \n",
       "3     0_0_0_1505  [0.12919633774160733, 0.31257508294268904, 0.4...   \n",
       "4     0_0_0_1592  [0.010482180293501049, 0.02051136184064979, 0....   \n",
       "...          ...                                                ...   \n",
       "5860  9_5_3_4223  [0.060860440713536204, 0.13837287170374432, 0....   \n",
       "5861  9_5_3_4229  [0.08363970588235294, 0.256914166420337, 0.374...   \n",
       "5862  9_5_3_4232  [0.07516650808753568, 0.19297725544946426, 0.3...   \n",
       "5863  9_5_3_4238  [0.42446808510638295, 0.6928418689190634, 0.73...   \n",
       "5864  9_5_3_4253  [0.05916030534351145, 0.3531876941961717, 0.62...   \n",
       "\n",
       "      PumpFailed  \n",
       "0              1  \n",
       "1              1  \n",
       "2              0  \n",
       "3              0  \n",
       "4              1  \n",
       "...          ...  \n",
       "5860           0  \n",
       "5861           0  \n",
       "5862           0  \n",
       "5863           0  \n",
       "5864           0  \n",
       "\n",
       "[5865 rows x 3 columns]"
      ]
     },
     "execution_count": 29,
     "metadata": {},
     "output_type": "execute_result"
    }
   ],
   "source": [
    "joined"
   ]
  },
  {
   "cell_type": "code",
   "execution_count": 30,
   "id": "c2a958cc",
   "metadata": {},
   "outputs": [
    {
     "data": {
      "text/plain": [
       "[<matplotlib.lines.Line2D at 0x17f529fd0>]"
      ]
     },
     "execution_count": 30,
     "metadata": {},
     "output_type": "execute_result"
    },
    {
     "data": {
      "image/png": "[encoded data removed]",
      "text/plain": [
       "<Figure size 640x480 with 1 Axes>"
      ]
     },
     "metadata": {},
     "output_type": "display_data"
    }
   ],
   "source": [
    "# Finální ověření na konkrétní kombinaci MachineId a MeasurementId, že pre-processing dat proběhl v pořádku.\n",
    "\n",
    "plt.plot(np.array(joined[joined['Id'] == '0_0_0_1125']['PressureSame'])[0])"
   ]
  },
  {
   "cell_type": "markdown",
   "id": "ab312418",
   "metadata": {},
   "source": [
    "Nyní máme dataset připravený jako vstup pro klasifikační model."
   ]
  },
  {
   "cell_type": "markdown",
   "id": "ef4ba56a",
   "metadata": {},
   "source": [
    "<h1>4. Model</h1>"
   ]
  },
  {
   "cell_type": "markdown",
   "id": "c9a0c43c",
   "metadata": {},
   "source": [
    "Vyzkoušel jsem celkově 4 modely\n",
    "\n",
    "- LogisticRegression\n",
    "- MLPClassifier\n",
    "- LSTM\n",
    "- Conv1D\n",
    "\n",
    "<b>LSTM</b> model měl ze všech modelů nejhorší výkon, který nebyl o nic lepší, než hození mincí. Pravděpodobně je to zapříčeněno tím, že LSTM je spíše vhodné pro hledání dlouhodobých trendů a komplexnějších vztahů, nikoli hledání lokálního minima, což je náš případ.\n",
    "\n",
    "<b>Logistic Regression</b> mělo Accuracy zhruba 75%, ale rozhodl jsem se prozkoumat ještě jiné modely.\n",
    "\n",
    "<b>MLPClassifier</b> a <b>Conv1D</b> se ukázaly ze všech 4 modelů jako nejpřesnější díky své schopnosti hledat lokální extrémy (spikes, drops - v našem případě strmý pád v tlaku). Oba mají téměř identickou Accuracy, ale liší se hlavně v Precision a Sensitivity. MLPClassifier má o něco vyšší Precision (94% vs 85%), zatímco Conv1D má o trochu vyšší Sensitivity (79% vs 81%). <i>Tyto závěry jsem sepisoval po prvním zavedení modelů. Skrze přetrénování a ladění modelů se tato čísla mohla změnit, logika ale zůstává.</i>\n",
    "\n",
    "K metrikám a mé interpretaci v rámci kontextu tohoto cvičení:\n",
    "- <b>Precision (TP/TP+FP):</b> Značí přesnost ve správném uhodnutí Failure oproti všem uhodnutím Failure. Precision je důležitá v případech, kdy špatně predikované True hodnoty mají velký impact. Například, pokud po každém predikování Failure automaticky nastává reklamace pumpy, pak se nižší Precision může prodražit.\n",
    "- <b>Sensitivity (TP/TP+FN):</b> Značí míru uhodnutí v rámci všech Failure případů. Důležité, když nám jde o vychytání co nejvíce Failure případů. Pokud například chyba pumpy má velké důsledky pro chod většího systému, je důležité abychom správně predikovali všechny případy pro co nejrychlejší opravu.\n",
    "- <b>Specificity (TN/TN+FP):</b> Vysoká Specificity je důležitá v případech, kdy neschopnost predikovat False hodnoty (v našem případě Non-failure) může mít velké důsledky. V našem případě tato metrika není tak důležitá, jako například ve zdravotnictví, kdy negativní případy predikované jako pozitivní mohou vést k nepotřebné (tudíž škodlivé) léčbě.\n",
    "\n",
    "<br>\n",
    "\n",
    "<b>Závěr a výběr modelu na základě Precision a Sensitivity</b><br>\n",
    "Celkové vyhodnocení modelu tedy záleží na tom, o jaké pumpy se jedná a jaké jsou důsledky jejich pochybení - zdali to jsou spíše uživatelská zařízení, kde nám spíše vadí nižší Precision, která se může například skrze reklamace prodražit, nebo o průmyslové pumpy, jejichž selhání může způsobit zdržení či kolaps většího systému. S ohledem na tento kontext se poté nabízí volba mezi MLPClassifier, který má spíše lepší Precision, nebo Conv1D, které má lepší Sensitivity. <i>Tyto závěry jsem sepisoval po prvním zavedení modelů. Skrze přetrénování a ladění modelů se tato čísla mohla změnit, logika ale zůstává.</i>\n",
    "\n",
    "<i>Kvůli časovému omezení cvičení jsem bohužel neměl čas zkoumat a ladit modely více do podrobna, nebo zkusit více modelů.</i>"
   ]
  },
  {
   "cell_type": "code",
   "execution_count": 31,
   "id": "26dc168a",
   "metadata": {},
   "outputs": [],
   "source": [
    "X = np.stack(joined['PressureSame'].values)\n",
    "y = joined['PumpFailed'].values"
   ]
  },
  {
   "cell_type": "code",
   "execution_count": 32,
   "id": "a45fe5d8",
   "metadata": {},
   "outputs": [],
   "source": [
    "#Normalizace dat\n",
    "\n",
    "min_max_scaler = MinMaxScaler()\n",
    "X_min_max_scaled = min_max_scaler.fit_transform(X)"
   ]
  },
  {
   "cell_type": "code",
   "execution_count": 33,
   "id": "b6599651",
   "metadata": {},
   "outputs": [],
   "source": [
    "#Rozdělení dat i labels na trénovací a testovací datasety (80/20)\n",
    "\n",
    "X_train, X_test, y_train, y_test = train_test_split(X_min_max_scaled, y, test_size=0.20, random_state=42)"
   ]
  },
  {
   "cell_type": "markdown",
   "id": "1f05deaf",
   "metadata": {},
   "source": [
    "<h2>LogisticRegression</h2>"
   ]
  },
  {
   "cell_type": "raw",
   "id": "c149a03c",
   "metadata": {},
   "source": [
    "model = LogisticRegression(solver='saga', max_iter=3000) #horší výkon"
   ]
  },
  {
   "cell_type": "markdown",
   "id": "7450da88",
   "metadata": {},
   "source": [
    "<h2>MLPClassifier</h2>"
   ]
  },
  {
   "cell_type": "code",
   "execution_count": 34,
   "id": "bbb8ea9a",
   "metadata": {},
   "outputs": [
    {
     "data": {
      "text/html": [
       "<style>#sk-container-id-1 {color: black;}#sk-container-id-1 pre{padding: 0;}#sk-container-id-1 div.sk-toggleable {background-color: white;}#sk-container-id-1 label.sk-toggleable__label {cursor: pointer;display: block;width: 100%;margin-bottom: 0;padding: 0.3em;box-sizing: border-box;text-align: center;}#sk-container-id-1 label.sk-toggleable__label-arrow:before {content: \"▸\";float: left;margin-right: 0.25em;color: #696969;}#sk-container-id-1 label.sk-toggleable__label-arrow:hover:before {color: black;}#sk-container-id-1 div.sk-estimator:hover label.sk-toggleable__label-arrow:before {color: black;}#sk-container-id-1 div.sk-toggleable__content {max-height: 0;max-width: 0;overflow: hidden;text-align: left;background-color: #f0f8ff;}#sk-container-id-1 div.sk-toggleable__content pre {margin: 0.2em;color: black;border-radius: 0.25em;background-color: #f0f8ff;}#sk-container-id-1 input.sk-toggleable__control:checked~div.sk-toggleable__content {max-height: 200px;max-width: 100%;overflow: auto;}#sk-container-id-1 input.sk-toggleable__control:checked~label.sk-toggleable__label-arrow:before {content: \"▾\";}#sk-container-id-1 div.sk-estimator input.sk-toggleable__control:checked~label.sk-toggleable__label {background-color: #d4ebff;}#sk-container-id-1 div.sk-label input.sk-toggleable__control:checked~label.sk-toggleable__label {background-color: #d4ebff;}#sk-container-id-1 input.sk-hidden--visually {border: 0;clip: rect(1px 1px 1px 1px);clip: rect(1px, 1px, 1px, 1px);height: 1px;margin: -1px;overflow: hidden;padding: 0;position: absolute;width: 1px;}#sk-container-id-1 div.sk-estimator {font-family: monospace;background-color: #f0f8ff;border: 1px dotted black;border-radius: 0.25em;box-sizing: border-box;margin-bottom: 0.5em;}#sk-container-id-1 div.sk-estimator:hover {background-color: #d4ebff;}#sk-container-id-1 div.sk-parallel-item::after {content: \"\";width: 100%;border-bottom: 1px solid gray;flex-grow: 1;}#sk-container-id-1 div.sk-label:hover label.sk-toggleable__label {background-color: #d4ebff;}#sk-container-id-1 div.sk-serial::before {content: \"\";position: absolute;border-left: 1px solid gray;box-sizing: border-box;top: 0;bottom: 0;left: 50%;z-index: 0;}#sk-container-id-1 div.sk-serial {display: flex;flex-direction: column;align-items: center;background-color: white;padding-right: 0.2em;padding-left: 0.2em;position: relative;}#sk-container-id-1 div.sk-item {position: relative;z-index: 1;}#sk-container-id-1 div.sk-parallel {display: flex;align-items: stretch;justify-content: center;background-color: white;position: relative;}#sk-container-id-1 div.sk-item::before, #sk-container-id-1 div.sk-parallel-item::before {content: \"\";position: absolute;border-left: 1px solid gray;box-sizing: border-box;top: 0;bottom: 0;left: 50%;z-index: -1;}#sk-container-id-1 div.sk-parallel-item {display: flex;flex-direction: column;z-index: 1;position: relative;background-color: white;}#sk-container-id-1 div.sk-parallel-item:first-child::after {align-self: flex-end;width: 50%;}#sk-container-id-1 div.sk-parallel-item:last-child::after {align-self: flex-start;width: 50%;}#sk-container-id-1 div.sk-parallel-item:only-child::after {width: 0;}#sk-container-id-1 div.sk-dashed-wrapped {border: 1px dashed gray;margin: 0 0.4em 0.5em 0.4em;box-sizing: border-box;padding-bottom: 0.4em;background-color: white;}#sk-container-id-1 div.sk-label label {font-family: monospace;font-weight: bold;display: inline-block;line-height: 1.2em;}#sk-container-id-1 div.sk-label-container {text-align: center;}#sk-container-id-1 div.sk-container {/* jupyter's `normalize.less` sets `[hidden] { display: none; }` but bootstrap.min.css set `[hidden] { display: none !important; }` so we also need the `!important` here to be able to override the default hidden behavior on the sphinx rendered scikit-learn.org. See: https://github.com/scikit-learn/scikit-learn/issues/21755 */display: inline-block !important;position: relative;}#sk-container-id-1 div.sk-text-repr-fallback {display: none;}</style><div id=\"sk-container-id-1\" class=\"sk-top-container\"><div class=\"sk-text-repr-fallback\"><pre>MLPClassifier(max_iter=3000)</pre><b>In a Jupyter environment, please rerun this cell to show the HTML representation or trust the notebook. <br />On GitHub, the HTML representation is unable to render, please try loading this page with nbviewer.org.</b></div><div class=\"sk-container\" hidden><div class=\"sk-item\"><div class=\"sk-estimator sk-toggleable\"><input class=\"sk-toggleable__control sk-hidden--visually\" id=\"sk-estimator-id-1\" type=\"checkbox\" checked><label for=\"sk-estimator-id-1\" class=\"sk-toggleable__label sk-toggleable__label-arrow\">MLPClassifier</label><div class=\"sk-toggleable__content\"><pre>MLPClassifier(max_iter=3000)</pre></div></div></div></div></div>"
      ],
      "text/plain": [
       "MLPClassifier(max_iter=3000)"
      ]
     },
     "execution_count": 34,
     "metadata": {},
     "output_type": "execute_result"
    }
   ],
   "source": [
    "model = MLPClassifier(hidden_layer_sizes=(100,), max_iter=3000)\n",
    "\n",
    "model.fit(X_train, y_train)"
   ]
  },
  {
   "cell_type": "code",
   "execution_count": 35,
   "id": "47a0474f",
   "metadata": {},
   "outputs": [],
   "source": [
    "predictionsmlpc = model.predict(X_test)"
   ]
  },
  {
   "cell_type": "code",
   "execution_count": 36,
   "id": "ae81d91a",
   "metadata": {},
   "outputs": [
    {
     "name": "stdout",
     "output_type": "stream",
     "text": [
      "Accuracy: 0.8618925831202046\n",
      "Classification Report:\n",
      "              precision    recall  f1-score   support\n",
      "\n",
      "           0       0.87      0.86      0.87       608\n",
      "           1       0.85      0.87      0.86       565\n",
      "\n",
      "    accuracy                           0.86      1173\n",
      "   macro avg       0.86      0.86      0.86      1173\n",
      "weighted avg       0.86      0.86      0.86      1173\n",
      "\n"
     ]
    }
   ],
   "source": [
    "accuracy = accuracy_score(y_test, predictionsmlpc)\n",
    "report = classification_report(y_test, predictionsmlpc)\n",
    "\n",
    "print(f\"Accuracy: {accuracy}\")\n",
    "print(\"Classification Report:\")\n",
    "print(report)"
   ]
  },
  {
   "cell_type": "code",
   "execution_count": 37,
   "id": "2ff0f04a",
   "metadata": {},
   "outputs": [
    {
     "name": "stdout",
     "output_type": "stream",
     "text": [
      "Precision: 0.85\n",
      "Sensitivity: 0.865\n",
      "\n",
      "Ze všech případů, kdy model hlásil Failure, v 85.0% případů predikoval správně.\n",
      "Ze všech případů, kdy nastalo Failure, model jich 87.0% predikoval.\n"
     ]
    }
   ],
   "source": [
    "cmmlpc = confusion_matrix(y_test, predictionsmlpc)\n",
    "\n",
    "print(f\"Precision: {round(cmmlpc[1,1]/(cmmlpc[1,1]+cmmlpc[0,1]), 3)}\")\n",
    "print(f\"Sensitivity: {round(cmmlpc[1,1]/(cmmlpc[1,1]+cmmlpc[1,0]), 3)}\")\n",
    "print(\"\")\n",
    "print(f\"Ze všech případů, kdy model hlásil Failure, v {(round(cmmlpc[1,1]/(cmmlpc[1,1]+cmmlpc[0,1]),2))*100}% případů predikoval správně.\")\n",
    "print(f\"Ze všech případů, kdy nastalo Failure, model jich {(round(cmmlpc[1,1]/(cmmlpc[1,1]+cmmlpc[1,0]),2))*100}% predikoval.\")"
   ]
  },
  {
   "cell_type": "code",
   "execution_count": 38,
   "id": "b7701135",
   "metadata": {},
   "outputs": [
    {
     "data": {
      "image/png": "[encoded data removed]",
      "text/plain": [
       "<Figure size 500x300 with 2 Axes>"
      ]
     },
     "metadata": {},
     "output_type": "display_data"
    }
   ],
   "source": [
    "plt.figure(figsize=(5,3))\n",
    "sns.heatmap(cmmlpc, annot=True, fmt=\"d\", cmap=\"Reds\")\n",
    "plt.title('Confusion Matrix')\n",
    "plt.ylabel('Actual Label')\n",
    "plt.xlabel('Predicted Label')\n",
    "plt.show()"
   ]
  },
  {
   "cell_type": "markdown",
   "id": "3bcea6e6",
   "metadata": {},
   "source": [
    "<h2>LSTM</h2>"
   ]
  },
  {
   "cell_type": "raw",
   "id": "f1fef206",
   "metadata": {},
   "source": [
    "model = Sequential([\n",
    "    LSTM(100, return_sequences=True, input_shape=(500, 1)),\n",
    "    Dropout(0.2),\n",
    "    LSTM(50),\n",
    "    Dropout(0.2),\n",
    "    Dense(50, activation='relu'),\n",
    "    Dense(1, activation='sigmoid')\n",
    "])\n",
    "\n",
    "optimizer = Adam(learning_rate=0.001)\n",
    "model.compile(optimizer=optimizer, loss='binary_crossentropy', metrics=['accuracy'])\n",
    "\n",
    "history = model.fit(X_train, y_train, epochs=30, validation_split=0.2, batch_size=300)"
   ]
  },
  {
   "cell_type": "markdown",
   "id": "5c972f27",
   "metadata": {},
   "source": [
    "<h2>Conv1D</h2>"
   ]
  },
  {
   "cell_type": "code",
   "execution_count": 39,
   "id": "061cf514",
   "metadata": {},
   "outputs": [
    {
     "name": "stderr",
     "output_type": "stream",
     "text": [
      "WARNING:absl:At this time, the v2.11+ optimizer `tf.keras.optimizers.Adam` runs slowly on M1/M2 Macs, please use the legacy Keras optimizer instead, located at `tf.keras.optimizers.legacy.Adam`.\n"
     ]
    },
    {
     "name": "stdout",
     "output_type": "stream",
     "text": [
      "Model: \"sequential\"\n",
      "_________________________________________________________________\n",
      " Layer (type)                Output Shape              Param #   \n",
      "=================================================================\n",
      " conv1d (Conv1D)             (None, 151, 64)           3264      \n",
      "                                                                 \n",
      " max_pooling1d (MaxPooling1  (None, 75, 64)            0         \n",
      " D)                                                              \n",
      "                                                                 \n",
      " flatten (Flatten)           (None, 4800)              0         \n",
      "                                                                 \n",
      " dense (Dense)               (None, 50)                240050    \n",
      "                                                                 \n",
      " dense_1 (Dense)             (None, 1)                 51        \n",
      "                                                                 \n",
      "=================================================================\n",
      "Total params: 243365 (950.64 KB)\n",
      "Trainable params: 243365 (950.64 KB)\n",
      "Non-trainable params: 0 (0.00 Byte)\n",
      "_________________________________________________________________\n",
      "Epoch 1/25\n",
      "38/38 [==============================] - 1s 8ms/step - loss: 0.5809 - accuracy: 0.7050 - precision: 0.7845 - val_loss: 0.5093 - val_accuracy: 0.7561 - val_precision: 0.8004\n",
      "Epoch 2/25\n",
      "38/38 [==============================] - 0s 6ms/step - loss: 0.5062 - accuracy: 0.7541 - precision: 0.7780 - val_loss: 0.4839 - val_accuracy: 0.7764 - val_precision: 0.8203\n",
      "Epoch 3/25\n",
      "38/38 [==============================] - 0s 5ms/step - loss: 0.4691 - accuracy: 0.7876 - precision: 0.8136 - val_loss: 0.4689 - val_accuracy: 0.7806 - val_precision: 0.8641\n",
      "Epoch 4/25\n",
      "38/38 [==============================] - 0s 5ms/step - loss: 0.4348 - accuracy: 0.8100 - precision: 0.8377 - val_loss: 0.4322 - val_accuracy: 0.7796 - val_precision: 0.8229\n",
      "Epoch 5/25\n",
      "38/38 [==============================] - 0s 6ms/step - loss: 0.4169 - accuracy: 0.8124 - precision: 0.8362 - val_loss: 0.4263 - val_accuracy: 0.7945 - val_precision: 0.8614\n",
      "Epoch 6/25\n",
      "38/38 [==============================] - 0s 6ms/step - loss: 0.4034 - accuracy: 0.8233 - precision: 0.8486 - val_loss: 0.4093 - val_accuracy: 0.7966 - val_precision: 0.8416\n",
      "Epoch 7/25\n",
      "38/38 [==============================] - 0s 5ms/step - loss: 0.3953 - accuracy: 0.8332 - precision: 0.8558 - val_loss: 0.4058 - val_accuracy: 0.8030 - val_precision: 0.8497\n",
      "Epoch 8/25\n",
      "38/38 [==============================] - 0s 5ms/step - loss: 0.3858 - accuracy: 0.8345 - precision: 0.8571 - val_loss: 0.4000 - val_accuracy: 0.8136 - val_precision: 0.8590\n",
      "Epoch 9/25\n",
      "38/38 [==============================] - 0s 5ms/step - loss: 0.3826 - accuracy: 0.8428 - precision: 0.8751 - val_loss: 0.4177 - val_accuracy: 0.8062 - val_precision: 0.8600\n",
      "Epoch 10/25\n",
      "38/38 [==============================] - 0s 5ms/step - loss: 0.3804 - accuracy: 0.8412 - precision: 0.8678 - val_loss: 0.3919 - val_accuracy: 0.8211 - val_precision: 0.8642\n",
      "Epoch 11/25\n",
      "38/38 [==============================] - 0s 5ms/step - loss: 0.3692 - accuracy: 0.8473 - precision: 0.8755 - val_loss: 0.3888 - val_accuracy: 0.8232 - val_precision: 0.8761\n",
      "Epoch 12/25\n",
      "38/38 [==============================] - 0s 5ms/step - loss: 0.3641 - accuracy: 0.8463 - precision: 0.8713 - val_loss: 0.3954 - val_accuracy: 0.8317 - val_precision: 0.8385\n",
      "Epoch 13/25\n",
      "38/38 [==============================] - 0s 6ms/step - loss: 0.3613 - accuracy: 0.8524 - precision: 0.8834 - val_loss: 0.3899 - val_accuracy: 0.8264 - val_precision: 0.8871\n",
      "Epoch 14/25\n",
      "38/38 [==============================] - 0s 5ms/step - loss: 0.3563 - accuracy: 0.8521 - precision: 0.8829 - val_loss: 0.3830 - val_accuracy: 0.8339 - val_precision: 0.8586\n",
      "Epoch 15/25\n",
      "38/38 [==============================] - 0s 5ms/step - loss: 0.3573 - accuracy: 0.8535 - precision: 0.8754 - val_loss: 0.3897 - val_accuracy: 0.8275 - val_precision: 0.8739\n",
      "Epoch 16/25\n",
      "38/38 [==============================] - 0s 5ms/step - loss: 0.3449 - accuracy: 0.8545 - precision: 0.8796 - val_loss: 0.3804 - val_accuracy: 0.8403 - val_precision: 0.8648\n",
      "Epoch 17/25\n",
      "38/38 [==============================] - 0s 5ms/step - loss: 0.3413 - accuracy: 0.8582 - precision: 0.8836 - val_loss: 0.3977 - val_accuracy: 0.8477 - val_precision: 0.8511\n",
      "Epoch 18/25\n",
      "38/38 [==============================] - 0s 6ms/step - loss: 0.3417 - accuracy: 0.8590 - precision: 0.8838 - val_loss: 0.3907 - val_accuracy: 0.8243 - val_precision: 0.8920\n",
      "Epoch 19/25\n",
      "38/38 [==============================] - 0s 6ms/step - loss: 0.3404 - accuracy: 0.8622 - precision: 0.8886 - val_loss: 0.3738 - val_accuracy: 0.8445 - val_precision: 0.8644\n",
      "Epoch 20/25\n",
      "38/38 [==============================] - 0s 6ms/step - loss: 0.3315 - accuracy: 0.8641 - precision: 0.8908 - val_loss: 0.3866 - val_accuracy: 0.8541 - val_precision: 0.8449\n",
      "Epoch 21/25\n",
      "38/38 [==============================] - 0s 6ms/step - loss: 0.3343 - accuracy: 0.8633 - precision: 0.8862 - val_loss: 0.3752 - val_accuracy: 0.8435 - val_precision: 0.8763\n",
      "Epoch 22/25\n",
      "38/38 [==============================] - 0s 6ms/step - loss: 0.3360 - accuracy: 0.8625 - precision: 0.8860 - val_loss: 0.3781 - val_accuracy: 0.8466 - val_precision: 0.8577\n",
      "Epoch 23/25\n",
      "38/38 [==============================] - 0s 7ms/step - loss: 0.3222 - accuracy: 0.8702 - precision: 0.8949 - val_loss: 0.3711 - val_accuracy: 0.8477 - val_precision: 0.8805\n",
      "Epoch 24/25\n",
      "38/38 [==============================] - 0s 6ms/step - loss: 0.3227 - accuracy: 0.8681 - precision: 0.8895 - val_loss: 0.3779 - val_accuracy: 0.8520 - val_precision: 0.8831\n",
      "Epoch 25/25\n",
      "38/38 [==============================] - 0s 5ms/step - loss: 0.3245 - accuracy: 0.8740 - precision: 0.9021 - val_loss: 0.3823 - val_accuracy: 0.8371 - val_precision: 0.8639\n"
     ]
    }
   ],
   "source": [
    "kernel_size = 50 # Určuje velikost \"okna\", ve kterém model hledá vzorce. Původní hodnota byla 3, nicméně Pressure Drop značící Failure je otázka více timestampů v rámci měření, tudíž jsem rozšířil okno na 50, což vedlo k zlepšení výkonu modelu.\n",
    "\n",
    "model = Sequential([\n",
    "    Conv1D(filters=64, kernel_size=kernel_size, activation='relu', input_shape=(200, 1)),\n",
    "    MaxPooling1D(pool_size=2),\n",
    "    Flatten(),\n",
    "    Dense(50, activation='relu'),\n",
    "    Dense(1, activation='sigmoid')\n",
    "])\n",
    "\n",
    "optimizer = Adam(learning_rate=0.001)\n",
    "model.compile(optimizer=optimizer, loss='binary_crossentropy', metrics=['accuracy', keras.metrics.Precision()])\n",
    "\n",
    "model.summary()\n",
    "\n",
    "history = model.fit(X_train, y_train, epochs=25, validation_split=0.2, batch_size=100)"
   ]
  },
  {
   "cell_type": "code",
   "execution_count": 40,
   "id": "2359c4c7",
   "metadata": {},
   "outputs": [
    {
     "name": "stdout",
     "output_type": "stream",
     "text": [
      "37/37 [==============================] - 0s 792us/step\n",
      "Accuracy: 0.855072463768116\n",
      "Classification Report:\n",
      "              precision    recall  f1-score   support\n",
      "\n",
      "           0       0.86      0.86      0.86       608\n",
      "           1       0.85      0.85      0.85       565\n",
      "\n",
      "    accuracy                           0.86      1173\n",
      "   macro avg       0.85      0.85      0.85      1173\n",
      "weighted avg       0.86      0.86      0.86      1173\n",
      "\n"
     ]
    }
   ],
   "source": [
    "predictions = model.predict(X_test)\n",
    "\n",
    "binary_predictions = np.where(predictions > 0.5, 1, 0)\n",
    "\n",
    "accuracy = accuracy_score(y_test, binary_predictions)\n",
    "report = classification_report(y_test, binary_predictions)\n",
    "\n",
    "print(f\"Accuracy: {accuracy}\")\n",
    "print(\"Classification Report:\")\n",
    "print(report)"
   ]
  },
  {
   "cell_type": "code",
   "execution_count": 42,
   "id": "d7e97ccd",
   "metadata": {},
   "outputs": [
    {
     "name": "stdout",
     "output_type": "stream",
     "text": [
      "Precision: 0.848\n",
      "Sensitivity: 0.851\n",
      "\n",
      "Ze všech případů, kdy model hlásil Failure, v 85.0% případů predikoval správně.\n",
      "Ze všech případů, kdy nastalo Failure, model jich 85.0% predikoval.\n"
     ]
    }
   ],
   "source": [
    "cm = confusion_matrix(y_test, binary_predictions)\n",
    "\n",
    "print(f\"Precision: {round(cm[1,1]/(cm[1,1]+cm[0,1]), 3)}\")\n",
    "print(f\"Sensitivity: {round(cm[1,1]/(cm[1,1]+cm[1,0]), 3)}\")\n",
    "print(\"\")\n",
    "print(f\"Ze všech případů, kdy model hlásil Failure, v {(round(cm[1,1]/(cm[1,1]+cm[0,1]),2))*100}% případů predikoval správně.\")\n",
    "print(f\"Ze všech případů, kdy nastalo Failure, model jich {(round(cm[1,1]/(cm[1,1]+cm[1,0]),2))*100}% predikoval.\")"
   ]
  },
  {
   "cell_type": "code",
   "execution_count": 43,
   "id": "0f81fdda",
   "metadata": {},
   "outputs": [
    {
     "data": {
      "image/png": "[encoded data removed]",
      "text/plain": [
       "<Figure size 500x300 with 2 Axes>"
      ]
     },
     "metadata": {},
     "output_type": "display_data"
    }
   ],
   "source": [
    "plt.figure(figsize=(5,3))\n",
    "sns.heatmap(cm, annot=True, fmt=\"d\",  cmap=\"Blues\")\n",
    "plt.title('Confusion Matrix')\n",
    "plt.ylabel('Actual Label')\n",
    "plt.xlabel('Predicted Label')\n",
    "plt.show()"
   ]
  },
  {
   "cell_type": "markdown",
   "id": "ce59655e",
   "metadata": {},
   "source": [
    "y_scores = model.predict_proba(X_test)[:, 1]"
   ]
  },
  {
   "cell_type": "markdown",
   "id": "131c41bf",
   "metadata": {},
   "source": [
    "fpr, tpr, thresholds = roc_curve(y_test, y_scores)\n",
    "\n",
    "roc_auc = auc(fpr, tpr)\n",
    "\n",
    "plt.figure()\n",
    "plt.plot(fpr, tpr,  lw=2, label='ROC curve (area = %0.2f)' % roc_auc)\n",
    "plt.plot([0, 1], [0, 1],  lw=2, linestyle='--')\n",
    "plt.xlabel('False Positive Rate')\n",
    "plt.ylabel('True Positive Rate')\n",
    "plt.title('Receiver Operating Characteristic (ROC)')\n",
    "plt.legend(loc=\"lower right\")\n",
    "plt.show()"
   ]
  },
  {
   "cell_type": "code",
   "execution_count": null,
   "id": "6d856628",
   "metadata": {},
   "outputs": [],
   "source": []
  },
  {
   "cell_type": "code",
   "execution_count": null,
   "id": "f8344125",
   "metadata": {},
   "outputs": [],
   "source": []
  }
 ],
 "metadata": {
  "kernelspec": {
   "display_name": "Python 3 (ipykernel)",
   "language": "python",
   "name": "python3"
  },
  "language_info": {
   "codemirror_mode": {
    "name": "ipython",
    "version": 3
   },
   "file_extension": ".py",
   "mimetype": "text/x-python",
   "name": "python",
   "nbconvert_exporter": "python",
   "pygments_lexer": "ipython3",
   "version": "3.11.5"
  }
 },
 "nbformat": 4,
 "nbformat_minor": 5
}
